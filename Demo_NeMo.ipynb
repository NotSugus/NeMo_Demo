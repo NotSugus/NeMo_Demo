{
 "cells": [
  {
   "cell_type": "markdown",
   "metadata": {},
   "source": [
    "# Demo: Nvidia NeMo TTS quickstart con explicación sencilla\n",
    "\n",
    "Este script tiene el siguiente propósito: resumir lo visto en los tutoriales de TTS de NeMo. La información es la misma que aquella\n",
    "encontrada en los tutoriales proporcionados en:\n",
    "https://docs.nvidia.com/deeplearning/nemo/user-guide/docs/en/main/starthere/tutorials.html\n",
    "\n",
    "**ESTE SCRIPT ESTÁ FORMATEADO PARA CORRER CORRECTAMENTE EN GOOGLE COLAB**\n",
    "\n",
    "#### El primer paso es instalar las dependencias necesarias. Recuerda seleccionar un runtime con GPU (change runtime -> hardware accelerator)."
   ]
  },
  {
   "cell_type": "code",
   "execution_count": null,
   "metadata": {},
   "outputs": [],
   "source": [
    "BRANCH = 'r1.11.0'\n",
    "!apt-get install sox libsndfile1 ffmpeg\n",
    "!pip install wget unidecode\n",
    "!python -m pip install git+https://github.com/NVIDIA/NeMo.git@$BRANCH#egg=nemo_toolkit[all]\n",
    "!pip install wget unidecode pynini==2.1.4"
   ]
  },
  {
   "cell_type": "markdown",
   "metadata": {},
   "source": [
    "#### Una vez instalado todo, comenzamos importando las librerías necesarias. Este ejemplo utiliza el modelo FastPitch + HiFigan."
   ]
  },
  {
   "cell_type": "code",
   "execution_count": null,
   "metadata": {},
   "outputs": [],
   "source": [
    "import IPython.display as ipd\n",
    "import librosa\n",
    "import librosa.display\n",
    "import numpy as np\n",
    "import torch\n",
    "from matplotlib import pyplot as plt\n",
    "%matplotlib inline\n",
    "\n",
    "# Reduce logging messages for this notebook\n",
    "from nemo.utils import logging\n",
    "logging.setLevel(logging.ERROR)\n",
    "\n",
    "from nemo.collections.tts.models import FastPitchModel\n",
    "from nemo.collections.tts.models import HifiGanModel\n",
    "from nemo.collections.tts.helpers.helpers import regulate_len\n",
    "\n",
    "# Load the models from NGC\n",
    "fastpitch = FastPitchModel.from_pretrained(\"tts_en_fastpitch\").eval().cuda()\n",
    "hifigan = HifiGanModel.from_pretrained(\"tts_hifigan\").eval().cuda()\n",
    "sr = 22050\n",
    "\n",
    "# Define a helper function to go from string to audio\n",
    "def str_to_audio(inp, pace=1.0, durs=None, pitch=None):\n",
    "    with torch.no_grad():\n",
    "        tokens = fastpitch.parse(inp)\n",
    "        spec, _, durs_pred, _, pitch_pred, *_ = fastpitch(text=tokens, durs=durs, pitch=pitch, speaker=None, pace=pace)\n",
    "        audio = hifigan.convert_spectrogram_to_audio(spec=spec).to('cpu').numpy()\n",
    "    return spec, audio, durs_pred, pitch_pred\n",
    "\n",
    "# Define a helper function to plot spectrograms with pitch and display the audio\n",
    "def display_pitch(audio, pitch, sr=22050, durs=None):\n",
    "    fig, ax = plt.subplots(figsize=(12, 6))\n",
    "    spec = np.abs(librosa.stft(audio[0], n_fft=1024))\n",
    "    # Check to see if pitch has been unnormalized\n",
    "    if torch.abs(torch.mean(pitch)) <= 1.0:\n",
    "        # Unnormalize the pitch with LJSpeech's mean and std\n",
    "        pitch = pitch * 65.72037058703644 + 214.72202032404294\n",
    "    # Check to see if pitch has been expanded to the spec length yet\n",
    "    if len(pitch) != spec.shape[0] and durs is not None:\n",
    "        pitch = regulate_len(durs, pitch.unsqueeze(-1))[0].squeeze(-1)\n",
    "    # Plot and display audio, spectrogram, and pitch\n",
    "    ax.plot(pitch.cpu().numpy()[0], color='cyan', linewidth=1)\n",
    "    librosa.display.specshow(np.log(spec+1e-12), y_axis='log')\n",
    "    ipd.display(ipd.Audio(audio, rate=sr))\n",
    "    plt.show()"
   ]
  },
  {
   "cell_type": "markdown",
   "metadata": {},
   "source": [
    "#### Antes que nada, observemos la diferencia en velocidad dependiendo del string input. Utilizaremos 1, 5, 25 palabras."
   ]
  },
  {
   "cell_type": "code",
   "execution_count": null,
   "metadata": {},
   "outputs": [],
   "source": [
    "input_string = \"One\"\n",
    "_, audio, *_ = str_to_audio(input_string)\n",
    "ipd.display(ipd.Audio(audio, rate=sr))"
   ]
  },
  {
   "cell_type": "code",
   "execution_count": null,
   "metadata": {},
   "outputs": [],
   "source": [
    "input_string = \"This will be one word\"\n",
    "_, audio, *_ = str_to_audio(input_string)\n",
    "ipd.display(ipd.Audio(audio, rate=sr))"
   ]
  },
  {
   "cell_type": "code",
   "execution_count": null,
   "metadata": {},
   "outputs": [],
   "source": [
    "input_string = \"The following string contains five times the words utilized in the previous string. We will be able to evaluate how much longer it takes to compute\"\n",
    "_, audio, *_ = str_to_audio(input_string)\n",
    "ipd.display(ipd.Audio(audio, rate=sr))"
   ]
  },
  {
   "cell_type": "markdown",
   "metadata": {},
   "source": [
    "#### Ahora, podemos modificar la velocidad de habla. Tenemos un audio original, una versión rápida y una versión lenta."
   ]
  },
  {
   "cell_type": "code",
   "execution_count": null,
   "metadata": {},
   "outputs": [],
   "source": [
    "#Define what we want the model to say\n",
    "input_string = \"Hey, I am speaking at different paces!\"  # Feel free to change it and experiment\n",
    "\n",
    "# Let's run fastpitch normally\n",
    "_, audio, *_ = str_to_audio(input_string)\n",
    "print(f\"This is fastpitch speaking at the regular pace of 1.0. This example is {len(audio[0])/sr:.3f} seconds long.\")\n",
    "ipd.display(ipd.Audio(audio, rate=sr))\n",
    "\n",
    "# We can speed up the speech by adjusting the pace\n",
    "_, audio, *_ = str_to_audio(input_string, pace=1.3)\n",
    "print(f\"This is fastpitch speaking at the faster pace of 1.3. This example is {len(audio[0])/sr:.3f} seconds long.\")\n",
    "ipd.display(ipd.Audio(audio, rate=sr))\n",
    "\n",
    "# We can slow down the speech by adjusting the pace\n",
    "_, audio, *_ = str_to_audio(input_string, pace=0.7)\n",
    "print(f\"This is fastpitch speaking at the slower pace of 0.7. This example is {len(audio[0])/sr:.3f} seconds long.\")\n",
    "ipd.display(ipd.Audio(audio, rate=sr))"
   ]
  }
 ],
 "metadata": {
  "language_info": {
   "name": "python"
  },
  "orig_nbformat": 4
 },
 "nbformat": 4,
 "nbformat_minor": 2
}
